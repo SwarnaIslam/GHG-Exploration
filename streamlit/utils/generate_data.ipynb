{
 "cells": [
  {
   "cell_type": "code",
   "execution_count": 2,
   "metadata": {},
   "outputs": [
    {
     "ename": "ModuleNotFoundError",
     "evalue": "No module named 'pandas'",
     "output_type": "error",
     "traceback": [
      "\u001b[0;31m---------------------------------------------------------------------------\u001b[0m",
      "\u001b[0;31mModuleNotFoundError\u001b[0m                       Traceback (most recent call last)",
      "Cell \u001b[0;32mIn[2], line 4\u001b[0m\n\u001b[1;32m      1\u001b[0m \u001b[38;5;28;01mimport\u001b[39;00m \u001b[38;5;21;01mcsv\u001b[39;00m\n\u001b[1;32m      2\u001b[0m \u001b[38;5;28;01mimport\u001b[39;00m \u001b[38;5;21;01mjson\u001b[39;00m\n\u001b[0;32m----> 4\u001b[0m \u001b[38;5;28;01mimport\u001b[39;00m \u001b[38;5;21;01mpandas\u001b[39;00m \u001b[38;5;28;01mas\u001b[39;00m \u001b[38;5;21;01mpd\u001b[39;00m\n\u001b[1;32m      5\u001b[0m \u001b[38;5;28;01mimport\u001b[39;00m \u001b[38;5;21;01mrequests\u001b[39;00m\n\u001b[1;32m      6\u001b[0m \u001b[38;5;28;01mimport\u001b[39;00m \u001b[38;5;21;01mstreamlit\u001b[39;00m \u001b[38;5;28;01mas\u001b[39;00m \u001b[38;5;21;01mst\u001b[39;00m\n",
      "\u001b[0;31mModuleNotFoundError\u001b[0m: No module named 'pandas'"
     ]
    }
   ],
   "source": [
    "import csv\n",
    "import json\n",
    "\n",
    "import pandas as pd\n",
    "import requests\n",
    "import streamlit as st\n",
    "\n",
    "RASTER_API_URL = \"https://earth.gov/ghgcenter/api/raster\"\n",
    "STAC_API_URL = \"https://earth.gov/ghgcenter/api/stac\""
   ]
  },
  {
   "cell_type": "code",
   "execution_count": 6,
   "metadata": {},
   "outputs": [],
   "source": [
    "############ FUNCTIONS ###############\n",
    "\n",
    "\n",
    "def fetch_collection_items(collection_name, limit=100):\n",
    "    \"\"\"\n",
    "    Function to fetch all items of a STAC collection.\n",
    "    \"\"\"\n",
    "    url = f\"{STAC_API_URL}/collections/{collection_name}/items\"\n",
    "    response = requests.get(url, params={\"limit\": limit})\n",
    "    if response.status_code == 200:\n",
    "        items = response.json().get(\"features\", [])\n",
    "        print(f\"Found {len(items)} items for collection: {collection_name}\")\n",
    "        return items\n",
    "    else:\n",
    "        print(f\"Failed to fetch items. Status code: {response.status_code}\")\n",
    "        return []\n",
    "\n",
    "\n",
    "def generate_stats(item, geojson, asset_name, i):\n",
    "    \"\"\"\n",
    "    Generate statistics for a given item and GeoJSON region.\n",
    "    \"\"\"\n",
    "    try:\n",
    "        result = requests.post(\n",
    "            f\"{RASTER_API_URL}/cog/statistics\",\n",
    "            params={\"url\": item[\"assets\"][asset_name][\"href\"]},\n",
    "            json=geojson,\n",
    "        ).json()\n",
    "\n",
    "\n",
    "        print(f\">> DONE FETCHING STATS - {i+1}\")\n",
    "        print(\"RESULT: \", result)\n",
    "\n",
    "        return {\n",
    "            **result[\"properties\"],\n",
    "            \"ddatetime\": item[\"properties\"][\"datetime\"][:7], # start_datetime or datetime \n",
    "        }\n",
    "    except Exception as e:\n",
    "        print(f\"Error generating stats: {e}\")\n",
    "        return {}\n",
    "\n",
    "\n",
    "def clean_stats(stats_json):\n",
    "    \"\"\"\n",
    "    Clean and prepare stats for saving as a DataFrame.\n",
    "    \"\"\"\n",
    "    \n",
    "    print(\"JSON \", stats_json)\n",
    "        \n",
    "    df = pd.json_normalize(stats_json)\n",
    "    df.columns = [col.replace(\"statistics.b1.\", \"\") for col in df.columns]\n",
    "    df[\"date\"] = pd.to_datetime(df[\"start_datetime\"])\n",
    "    return df\n",
    "\n",
    "\n",
    "def save_stats_to_csv(df, collection_name):\n",
    "    \"\"\"\n",
    "    Save the cleaned DataFrame to a CSV file.\n",
    "    \"\"\"\n",
    "    csv_file = f\"streamlit/data/{collection_name}.csv\"\n",
    "    df.to_csv(csv_file, index=False)\n",
    "    print(f\"Data saved to {csv_file}\")\n",
    "    return csv_file\n",
    "\n",
    "\n",
    "def get_all_assets(items):\n",
    "\n",
    "    try:\n",
    "        return list(items[0][\"assets\"].keys())[:-1]\n",
    "\n",
    "    except:\n",
    "        return []\n"
   ]
  },
  {
   "cell_type": "code",
   "execution_count": 3,
   "metadata": {},
   "outputs": [],
   "source": [
    "############ CUSTOMIZABLE PARAMS ###############\n",
    "\n",
    "collection_name = \"epa-ch4emission-yeargrid-v2express\"\n",
    "world_geojson = {\n",
    "    \"type\": \"Feature\",\n",
    "    \"properties\": {\"name\": \"World\"},\n",
    "    \"geometry\": {\n",
    "        \"type\": \"Polygon\",\n",
    "        \"coordinates\": [\n",
    "            [\n",
    "                [-180.0, -90.0],\n",
    "                [180.0, -90.0],\n",
    "                [180.0, 90.0],\n",
    "                [-180.0, 90.0],\n",
    "                [-180.0, -90.0],\n",
    "            ]\n",
    "        ],\n",
    "    },\n",
    "}"
   ]
  },
  {
   "cell_type": "code",
   "execution_count": 4,
   "metadata": {},
   "outputs": [
    {
     "name": "stdout",
     "output_type": "stream",
     "text": [
      "Found 9 items for collection: epa-ch4emission-yeargrid-v2express\n",
      "['dwtd-waste', 'iwtd-waste', 'post-meter', 'refining-ps', 'total-other', 'total-waste', 'surface-coal', 'transport-ps', 'abn-ong-other', 'field-burning', 'production-ps', 'total-methane', 'exploration-ps', 'processing-ngs', 'production-ngs', 'exploration-ngs', 'composting-waste', 'distribution-ngs', 'rice-cultivation', 'total-coal-mines', 'underground-coal', 'manure-management', 'total-agriculture', 'msw-landfill-waste', 'abn-underground-coal', 'enteric-fermentation', 'petro-production-other', 'mobile-combustion-other', 'total-petroleum-systems', 'transmission-storage-ngs', 'industrial-landfill-waste', 'total-natural-gas-systems', 'ferroalloy-production-other', 'stationary-combustion-other']\n"
     ]
    }
   ],
   "source": [
    "# Fetch items from the collection\n",
    "items = fetch_collection_items(collection_name, limit=10)\n",
    "assets = get_all_assets(items)\n",
    "\n",
    "print(assets)\n",
    "\n",
    "asset_name = assets[0]  # customizable"
   ]
  },
  {
   "cell_type": "code",
   "execution_count": 7,
   "metadata": {},
   "outputs": [
    {
     "name": "stdout",
     "output_type": "stream",
     "text": [
      ">> DONE FETCHING STATS - 1\n",
      "RESULT:  {'type': 'Feature', 'geometry': {'type': 'Polygon', 'coordinates': [[[-180.0, -90.0], [180.0, -90.0], [180.0, 90.0], [-180.0, 90.0], [-180.0, -90.0]]]}, 'properties': {'statistics': {'b1': {'min': 1.3621397343399622e-08, 'max': 250.26608276367188, 'mean': 0.0640193372964859, 'count': 75972.0, 'sum': 4863.67724609375, 'std': 1.3164696381020087, 'median': 0.0019118647323921323, 'majority': 8.104947823994735e-07, 'minority': 1.3621397343399622e-08, 'unique': 75802.0, 'histogram': [[75965.0, 1.0, 2.0, 0.0, 2.0, 1.0, 0.0, 0.0, 0.0, 1.0], [1.3621397343399622e-08, 25.026607513427734, 50.05321502685547, 75.07981872558594, 100.10643005371094, 125.13304138183594, 150.15963745117188, 175.18624877929688, 200.21286010742188, 225.23947143554688, 250.26608276367188]], 'valid_percent': 1.17, 'masked_pixels': 6407628.0, 'valid_pixels': 75972.0, 'percentile_2': 2.01231409846514e-06, 'percentile_98': 0.5368320941925049}}, 'name': 'World'}}\n",
      ">> DONE FETCHING STATS - 2\n",
      "RESULT:  {'type': 'Feature', 'geometry': {'type': 'Polygon', 'coordinates': [[[-180.0, -90.0], [180.0, -90.0], [180.0, 90.0], [-180.0, 90.0], [-180.0, -90.0]]]}, 'properties': {'statistics': {'b1': {'min': 1.2746840027944017e-08, 'max': 259.6906433105469, 'mean': 0.06314624845981598, 'count': 75972.0, 'sum': 4797.3466796875, 'std': 1.355264038106119, 'median': 0.0017918151570484042, 'majority': 7.584571903862525e-07, 'minority': 1.2746840027944017e-08, 'unique': 75802.0, 'histogram': [[75965.0, 1.0, 2.0, 0.0, 2.0, 1.0, 0.0, 0.0, 0.0, 1.0], [1.2746840027944017e-08, 25.969064712524414, 51.93812942504883, 77.90719604492188, 103.87625885009766, 129.84532165527344, 155.81439208984375, 181.783447265625, 207.7525177001953, 233.72158813476562, 259.6906433105469]], 'valid_percent': 1.17, 'masked_pixels': 6407628.0, 'valid_pixels': 75972.0, 'percentile_2': 1.8831140096153831e-06, 'percentile_98': 0.5195972323417664}}, 'name': 'World'}}\n",
      ">> DONE FETCHING STATS - 3\n",
      "RESULT:  {'type': 'Feature', 'geometry': {'type': 'Polygon', 'coordinates': [[[-180.0, -90.0], [180.0, -90.0], [180.0, 90.0], [-180.0, 90.0], [-180.0, -90.0]]]}, 'properties': {'statistics': {'b1': {'min': 1.327927989791533e-08, 'max': 266.81304931640625, 'mean': 0.06492073833942413, 'count': 75972.0, 'sum': 4932.158203125, 'std': 1.3696258164097277, 'median': 0.0018649876583367586, 'majority': 7.901381877672975e-07, 'minority': 1.327927989791533e-08, 'unique': 75796.0, 'histogram': [[75965.0, 1.0, 2.0, 0.0, 2.0, 1.0, 0.0, 0.0, 0.0, 1.0], [1.327927989791533e-08, 26.681304931640625, 53.36260986328125, 80.04391479492188, 106.7252197265625, 133.40652465820312, 160.08782958984375, 186.76913452148438, 213.450439453125, 240.13174438476562, 266.81304931640625]], 'valid_percent': 1.17, 'masked_pixels': 6407628.0, 'valid_pixels': 75972.0, 'percentile_2': 1.9617721136455657e-06, 'percentile_98': 0.5383850932121277}}, 'name': 'World'}}\n",
      ">> DONE FETCHING STATS - 4\n",
      "RESULT:  {'type': 'Feature', 'geometry': {'type': 'Polygon', 'coordinates': [[[-180.0, -90.0], [180.0, -90.0], [180.0, 90.0], [-180.0, 90.0], [-180.0, -90.0]]]}, 'properties': {'statistics': {'b1': {'min': 1.3798702624967518e-08, 'max': 405.3661804199219, 'mean': 0.0669330433011055, 'count': 75972.0, 'sum': 5085.037109375, 'std': 1.7205053902153313, 'median': 0.0019358446588739753, 'majority': 8.21044693566364e-07, 'minority': 1.3798702624967518e-08, 'unique': 75798.0, 'histogram': [[75965.0, 4.0, 1.0, 1.0, 0.0, 0.0, 0.0, 0.0, 0.0, 1.0], [1.3798702624967518e-08, 40.536617279052734, 81.07323455810547, 121.60984802246094, 162.14646911621094, 202.68309020996094, 243.21969604492188, 283.7563171386719, 324.2929382324219, 364.8295593261719, 405.3661804199219]], 'valid_percent': 1.17, 'masked_pixels': 6407628.0, 'valid_pixels': 75972.0, 'percentile_2': 2.0385075458762003e-06, 'percentile_98': 0.5552120804786682}}, 'name': 'World'}}\n",
      ">> DONE FETCHING STATS - 5\n",
      "RESULT:  {'type': 'Feature', 'geometry': {'type': 'Polygon', 'coordinates': [[[-180.0, -90.0], [180.0, -90.0], [180.0, 90.0], [-180.0, 90.0], [-180.0, -90.0]]]}, 'properties': {'statistics': {'b1': {'min': 1.442687036501411e-08, 'max': 373.3284606933594, 'mean': 0.06881629675626755, 'count': 75972.0, 'sum': 5228.11181640625, 'std': 1.6844617548807708, 'median': 0.0020279756281524897, 'majority': 8.584216288909374e-07, 'minority': 1.442687036501411e-08, 'unique': 75799.0, 'histogram': [[75965.0, 1.0, 2.0, 3.0, 0.0, 0.0, 0.0, 0.0, 0.0, 1.0], [1.442687036501411e-08, 37.332847595214844, 74.66569519042969, 111.99854278564453, 149.33139038085938, 186.66424560546875, 223.99708557128906, 261.3299255371094, 298.66278076171875, 335.9956359863281, 373.3284606933594]], 'valid_percent': 1.17, 'masked_pixels': 6407628.0, 'valid_pixels': 75972.0, 'percentile_2': 2.131307837771601e-06, 'percentile_98': 0.5727676153182983}}, 'name': 'World'}}\n",
      ">> DONE FETCHING STATS - 6\n",
      "RESULT:  {'type': 'Feature', 'geometry': {'type': 'Polygon', 'coordinates': [[[-180.0, -90.0], [180.0, -90.0], [180.0, 90.0], [-180.0, 90.0], [-180.0, -90.0]]]}, 'properties': {'statistics': {'b1': {'min': 1.510963087980599e-08, 'max': 130.80709838867188, 'mean': 0.07021795958280563, 'count': 75972.0, 'sum': 5334.5986328125, 'std': 1.044024843589015, 'median': 0.0021207493264228106, 'majority': 8.990469950731494e-07, 'minority': 1.510963087980599e-08, 'unique': 75799.0, 'histogram': [[75940.0, 17.0, 9.0, 1.0, 0.0, 1.0, 0.0, 1.0, 1.0, 2.0], [1.510963087980599e-08, 13.080709457397461, 26.161418914794922, 39.24212646484375, 52.322837829589844, 65.40354919433594, 78.4842529296875, 91.5649642944336, 104.64567565917969, 117.72638702392578, 130.80709838867188]], 'valid_percent': 1.17, 'masked_pixels': 6407628.0, 'valid_pixels': 75972.0, 'percentile_2': 2.2321733013086487e-06, 'percentile_98': 0.6170605421066284}}, 'name': 'World'}}\n",
      ">> DONE FETCHING STATS - 7\n",
      "RESULT:  {'type': 'Feature', 'geometry': {'type': 'Polygon', 'coordinates': [[[-180.0, -90.0], [180.0, -90.0], [180.0, 90.0], [-180.0, 90.0], [-180.0, -90.0]]]}, 'properties': {'statistics': {'b1': {'min': 1.4515793900216067e-08, 'max': 115.42922973632812, 'mean': 0.06972555071115494, 'count': 75972.0, 'sum': 5297.189453125, 'std': 0.8216366208239974, 'median': 0.0020400513894855976, 'majority': 8.637127280053392e-07, 'minority': 1.4515793900216067e-08, 'unique': 75799.0, 'histogram': [[75933.0, 26.0, 7.0, 4.0, 0.0, 0.0, 0.0, 0.0, 1.0, 1.0], [1.4515793900216067e-08, 11.542922973632812, 23.085845947265625, 34.62876892089844, 46.17169189453125, 57.71461486816406, 69.25753784179688, 80.80046081542969, 92.3433837890625, 103.88630676269531, 115.42922973632812]], 'valid_percent': 1.17, 'masked_pixels': 6407628.0, 'valid_pixels': 75972.0, 'percentile_2': 2.1444445792440092e-06, 'percentile_98': 0.6424961090087891}}, 'name': 'World'}}\n",
      ">> DONE FETCHING STATS - 8\n",
      "RESULT:  {'type': 'Feature', 'geometry': {'type': 'Polygon', 'coordinates': [[[-180.0, -90.0], [180.0, -90.0], [180.0, 90.0], [-180.0, 90.0], [-180.0, -90.0]]]}, 'properties': {'statistics': {'b1': {'min': 1.3927836661764559e-08, 'max': 123.90635681152344, 'mean': 0.07029987871646881, 'count': 75972.0, 'sum': 5340.822265625, 'std': 1.0020430080259912, 'median': 0.001951661892235279, 'majority': 8.287283321806171e-07, 'minority': 1.3927836661764559e-08, 'unique': 75797.0, 'histogram': [[75934.0, 25.0, 8.0, 0.0, 1.0, 0.0, 1.0, 0.0, 0.0, 3.0], [1.3927836661764559e-08, 12.39063549041748, 24.78127098083496, 37.171905517578125, 49.56254196166992, 61.95317840576172, 74.34381103515625, 86.73445129394531, 99.12508392333984, 111.51571655273438, 123.90635681152344]], 'valid_percent': 1.17, 'masked_pixels': 6407628.0, 'valid_pixels': 75972.0, 'percentile_2': 2.057584879366914e-06, 'percentile_98': 0.6195341348648071}}, 'name': 'World'}}\n",
      ">> DONE FETCHING STATS - 9\n",
      "RESULT:  {'type': 'Feature', 'geometry': {'type': 'Polygon', 'coordinates': [[[-180.0, -90.0], [180.0, -90.0], [180.0, 90.0], [-180.0, 90.0], [-180.0, -90.0]]]}, 'properties': {'statistics': {'b1': {'min': 1.4075032694904621e-08, 'max': 131.3120574951172, 'mean': 0.0721239373087883, 'count': 75972.0, 'sum': 5479.39990234375, 'std': 0.9105365269816327, 'median': 0.0019599406514316797, 'majority': 8.374867661586904e-07, 'minority': 1.4075032694904621e-08, 'unique': 75798.0, 'histogram': [[75932.0, 28.0, 6.0, 3.0, 0.0, 1.0, 0.0, 0.0, 1.0, 1.0], [1.4075032694904621e-08, 13.131205558776855, 26.26241111755371, 39.39361572265625, 52.52482223510742, 65.6560287475586, 78.7872314453125, 91.91844177246094, 105.04964447021484, 118.18084716796875, 131.3120574951172]], 'valid_percent': 1.17, 'masked_pixels': 6407628.0, 'valid_pixels': 75972.0, 'percentile_2': 2.0793304429389536e-06, 'percentile_98': 0.6520905494689941}}, 'name': 'World'}}\n",
      "{'statistics': {'b1': {'min': 1.3621397343399622e-08, 'max': 250.26608276367188, 'mean': 0.0640193372964859, 'count': 75972.0, 'sum': 4863.67724609375, 'std': 1.3164696381020087, 'median': 0.0019118647323921323, 'majority': 8.104947823994735e-07, 'minority': 1.3621397343399622e-08, 'unique': 75802.0, 'histogram': [[75965.0, 1.0, 2.0, 0.0, 2.0, 1.0, 0.0, 0.0, 0.0, 1.0], [1.3621397343399622e-08, 25.026607513427734, 50.05321502685547, 75.07981872558594, 100.10643005371094, 125.13304138183594, 150.15963745117188, 175.18624877929688, 200.21286010742188, 225.23947143554688, 250.26608276367188]], 'valid_percent': 1.17, 'masked_pixels': 6407628.0, 'valid_pixels': 75972.0, 'percentile_2': 2.01231409846514e-06, 'percentile_98': 0.5368320941925049}}, 'name': 'World', 'ddatetime': '2020-01'}\n"
     ]
    }
   ],
   "source": [
    "# Generate statistics for each item based on the world_geojson\n",
    "stats = [\n",
    "    generate_stats(item, world_geojson, asset_name, i) for i, item in enumerate(items)\n",
    "]\n",
    "\n",
    "print(stats[0])"
   ]
  },
  {
   "cell_type": "code",
   "execution_count": null,
   "metadata": {},
   "outputs": [],
   "source": [
    "# Clean the statistics data\n",
    "df = clean_stats(stats)\n",
    "df.columns"
   ]
  },
  {
   "cell_type": "code",
   "execution_count": null,
   "metadata": {},
   "outputs": [],
   "source": [
    "df.head()"
   ]
  },
  {
   "cell_type": "code",
   "execution_count": null,
   "metadata": {},
   "outputs": [],
   "source": [
    "# Save the cleaned data to a CSV file\n",
    "csv_file = save_stats_to_csv(df, collection_name)"
   ]
  },
  {
   "cell_type": "code",
   "execution_count": null,
   "metadata": {},
   "outputs": [],
   "source": []
  }
 ],
 "metadata": {
  "kernelspec": {
   "display_name": "test1",
   "language": "python",
   "name": "python3"
  },
  "language_info": {
   "codemirror_mode": {
    "name": "ipython",
    "version": 3
   },
   "file_extension": ".py",
   "mimetype": "text/x-python",
   "name": "python",
   "nbconvert_exporter": "python",
   "pygments_lexer": "ipython3",
   "version": "3.12.2"
  }
 },
 "nbformat": 4,
 "nbformat_minor": 2
}
